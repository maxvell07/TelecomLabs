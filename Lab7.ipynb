{
  "nbformat": 4,
  "nbformat_minor": 0,
  "metadata": {
    "colab": {
      "provenance": [],
      "include_colab_link": true
    },
    "kernelspec": {
      "name": "python3",
      "display_name": "Python 3"
    },
    "language_info": {
      "name": "python"
    }
  },
  "cells": [
    {
      "cell_type": "markdown",
      "metadata": {
        "id": "view-in-github",
        "colab_type": "text"
      },
      "source": [
        "<a href=\"https://colab.research.google.com/github/maxvell07/TelecomLabs/blob/main/Lab7.ipynb\" target=\"_parent\"><img src=\"https://colab.research.google.com/assets/colab-badge.svg\" alt=\"Open In Colab\"/></a>"
      ]
    },
    {
      "cell_type": "markdown",
      "source": [
        "# **Упражнение 7.1**\n",
        "\n",
        "В блокноте для этой главы, chap07.ipynb, представлены дополнительные примеры и пояснения. Прочитать блокнот и запустите код."
      ],
      "metadata": {
        "id": "Udo9J-ZfFTMb"
      }
    },
    {
      "cell_type": "markdown",
      "source": [
        "# **Упражнение 7.2**\n",
        "\n",
        "Реализован алгоритм Быстрого Преобразования Фурье (БПФ), согласно лемме Дэниелсона-Ланцоша - рекурсивный алгоритм ДПФ. Подробности преобразований, алгоритм и самма лемма представлены в методичке."
      ],
      "metadata": {
        "id": "cfkEgRZjJW0n"
      }
    },
    {
      "cell_type": "markdown",
      "source": [
        "Добавим импорт и реализуем алгоритм:"
      ],
      "metadata": {
        "id": "0Ge3aYdpKLTg"
      }
    },
    {
      "cell_type": "code",
      "execution_count": 1,
      "metadata": {
        "id": "Bg47vJPdE_to"
      },
      "outputs": [],
      "source": [
        "import numpy as np\n",
        "PI2 = 2 * np.pi"
      ]
    },
    {
      "cell_type": "code",
      "source": [
        "ys = [0.8,0.6,-0.5,-0.4]\n",
        "hs = np.fft.fft(ys)\n",
        "hs"
      ],
      "metadata": {
        "colab": {
          "base_uri": "https://localhost:8080/"
        },
        "id": "GzL30cizFekt",
        "outputId": "a2a59b28-c68f-4c7e-cc4e-de213989c404"
      },
      "execution_count": 2,
      "outputs": [
        {
          "output_type": "execute_result",
          "data": {
            "text/plain": [
              "array([0.5+0.j, 1.3-1.j, 0.1+0.j, 1.3+1.j])"
            ]
          },
          "metadata": {},
          "execution_count": 2
        }
      ]
    },
    {
      "cell_type": "code",
      "source": [
        "def dft(ys):\n",
        "    N = len(ys)\n",
        "    ts = np.arange(N) / N\n",
        "    freqs = np.arange(N)\n",
        "    args = np.outer(ts, freqs)\n",
        "    M = np.exp(1j * PI2 * args)\n",
        "    amps = M.conj().transpose().dot(ys)\n",
        "    return amps"
      ],
      "metadata": {
        "id": "4S56HvBwFhfg"
      },
      "execution_count": 3,
      "outputs": []
    },
    {
      "cell_type": "code",
      "source": [
        "dft(ys)"
      ],
      "metadata": {
        "colab": {
          "base_uri": "https://localhost:8080/"
        },
        "id": "lPyuNtl8Fkr_",
        "outputId": "e12d4208-d56e-490b-813b-8f7d09d7c0d6"
      },
      "execution_count": 4,
      "outputs": [
        {
          "output_type": "execute_result",
          "data": {
            "text/plain": [
              "array([0.5+0.0000000e+00j, 1.3-1.0000000e+00j, 0.1-4.8985872e-17j,\n",
              "       1.3+1.0000000e+00j])"
            ]
          },
          "metadata": {},
          "execution_count": 4
        }
      ]
    },
    {
      "cell_type": "markdown",
      "source": [
        "Разделим массив на чётные и нечётные элементы:"
      ],
      "metadata": {
        "id": "_uOrdFnfFrf5"
      }
    },
    {
      "cell_type": "code",
      "source": [
        "ys[::2] , ys[1::2]"
      ],
      "metadata": {
        "colab": {
          "base_uri": "https://localhost:8080/"
        },
        "id": "bSx2jAnVFp5w",
        "outputId": "26a7684c-d4fa-47b1-9db4-5d775d683ea6"
      },
      "execution_count": 5,
      "outputs": [
        {
          "output_type": "execute_result",
          "data": {
            "text/plain": [
              "([0.8, -0.5], [0.6, -0.4])"
            ]
          },
          "metadata": {},
          "execution_count": 5
        }
      ]
    },
    {
      "cell_type": "code",
      "source": [
        "def my_fft(ys):\n",
        "  He = dft(ys[::2])\n",
        "  Ho = dft(ys[1::2])\n",
        "  ns = np.arange(len(ys))\n",
        "  W = np.exp(-1j * PI2 * ns / len(ys))\n",
        "  return np.tile(He, 2) + W * np.tile(Ho, 2)"
      ],
      "metadata": {
        "id": "JYyqzxdUFvbV"
      },
      "execution_count": 6,
      "outputs": []
    },
    {
      "cell_type": "markdown",
      "source": [
        "Не рекурсивный метод:"
      ],
      "metadata": {
        "id": "L0wkKaETFwzD"
      }
    },
    {
      "cell_type": "code",
      "source": [
        "my_fft(ys)"
      ],
      "metadata": {
        "colab": {
          "base_uri": "https://localhost:8080/"
        },
        "id": "OF4mWupSFyyb",
        "outputId": "81802f92-12ce-4edd-c938-bc90a1fe784f"
      },
      "execution_count": 7,
      "outputs": [
        {
          "output_type": "execute_result",
          "data": {
            "text/plain": [
              "array([0.5+0.0000000e+00j, 1.3-1.0000000e+00j, 0.1-2.4492936e-17j,\n",
              "       1.3+1.0000000e+00j])"
            ]
          },
          "metadata": {},
          "execution_count": 7
        }
      ]
    },
    {
      "cell_type": "code",
      "source": [
        "def my_fft(ys):\n",
        "  if len(ys) == 1:\n",
        "    return ys\n",
        "  He = my_fft(ys[::2])\n",
        "  Ho = my_fft(ys[1::2])\n",
        "  ns = np.arange(len(ys))\n",
        "  W = np.exp(-1j * PI2 * ns / len(ys))\n",
        "  return np.tile(He, 2) + W * np.tile(Ho, 2)"
      ],
      "metadata": {
        "id": "rYjNJgr8F2px"
      },
      "execution_count": 8,
      "outputs": []
    },
    {
      "cell_type": "markdown",
      "source": [
        "Рекурсивный метод:"
      ],
      "metadata": {
        "id": "8ODIJddMF7dk"
      }
    },
    {
      "cell_type": "code",
      "source": [
        "my_fft(ys)"
      ],
      "metadata": {
        "colab": {
          "base_uri": "https://localhost:8080/"
        },
        "id": "pnjeDMGXF7MA",
        "outputId": "a520acfe-7175-42db-94da-603fbafcbe02"
      },
      "execution_count": 9,
      "outputs": [
        {
          "output_type": "execute_result",
          "data": {
            "text/plain": [
              "array([0.5+0.0000000e+00j, 1.3-1.0000000e+00j, 0.1-2.4492936e-17j,\n",
              "       1.3+1.0000000e+00j])"
            ]
          },
          "metadata": {},
          "execution_count": 9
        }
      ]
    }
  ]
}